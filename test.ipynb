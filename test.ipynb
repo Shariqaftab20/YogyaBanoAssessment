{
 "cells": [
  {
   "cell_type": "code",
   "execution_count": 5,
   "metadata": {},
   "outputs": [],
   "source": [
    "from langchain_community.document_loaders import PyPDFLoader\n",
    "\n",
    "loader = PyPDFLoader(\"test.pdf\")\n",
    "pages = loader.load_and_split()"
   ]
  },
  {
   "cell_type": "code",
   "execution_count": 6,
   "metadata": {},
   "outputs": [
    {
     "data": {
      "text/plain": [
       "[Document(metadata={'source': 'test.pdf', 'page': 0}, page_content='making LearnING enga ging A gain!www . y ogy abano . c om/W e ar e a WhatsApp b ased personalised GenA .I po w er ed micr ole ar ning  platf or m f or \\nsp a c ed le ar ning t o deliv er bet t er r esul ts.'),\n",
       " Document(metadata={'source': 'test.pdf', 'page': 1}, page_content='P r o b l e m  W e  a r e  A d d r e s s i n gG a u t a m\\nL e a r n e r sL e k h a\\nL a c k  o f  p e r s o n a l i s a t i o n  i n  t r a i n i n g  p r o g r a m \\nN o t  d e s i g n e d  f o r  l o w  a t t e n t i o n  s p a n \\nN o  o p p o r t u n i t y  f o r  c o n t i n u o u s  &  s p a c e d  l e a r n i n \\nD i f fi c u l t  t o  m a k e  l e a r n i n g  a  h a b i t \\nL o t  o f  f r i c t i o n  i n  a c c e s s i n g  e- l e a r n i n g  c o n t e n tT a k e  w e e k s  a n d  m o n t h s  t o  c r e a t e  a n d  l a u n c h  a  \\nt r a i n i n g  p r o g r a \\nC u r r e n t  l e a r n i n g  m a n a g e m e n t  s y s t e m s  a r e  n o t  \\nt u n e d  t o  t h e  n e e d  o f  f r o n t l i n e  a n d  l o w  a t t e n t i o n  \\ns p a n  l e a r n e r \\nL e a r n i n g  w o r k fl o w  i s  d e t a c h e d  f r o m  d a i l y  w o r k\\nT r a i n i n g  I n s t r u c t o r'),\n",
       " Document(metadata={'source': 'test.pdf', 'page': 2}, page_content='C l a s s r o o m  b a s e dN o t  s c a l a b l e  a n d  i m p a c t  w o r k  \\ns c h e d u l eC o m p u t e r  b a s e dN o t  d e s i g n e d  f o r  s p a c e d  l e a r n i n g  a n d  m a k i n g  \\nl e a r n i n g  a s  a  h a b i tE x i s t i n g  S o l u t i o n s'),\n",
       " Document(metadata={'source': 'test.pdf', 'page': 3}, page_content='A I  A s s i s t e d  t r a i n i n g  p l a t f o r m  d e s i g n e d  f o r  g r e y  c o l l a r  a n d  b l u e  c o l l a r  w o r k e r s\\nL a u n c h  t r a i n i n g  p r o g r a m s  i n  \\nm i n u t e s  a n d  n o t  i n  m o n t h sA I  C o u r s e  C r e a t i o n  \\nP l a t f o r mB e t t e r  e m p l o y e e  \\ne n g a g e m e n tC o n t e n t  i n  1 1  d i f f e r e n t  \\nI n d i a n  l a n g u a g e sA n y t i m e  a n d  b a s e d  o n  \\ne m p l o y e e  c o n v e n i e n c eW h a t s A p p  a n d  \\nv o i c e b o t  e n a b l e d\\nC o n t e n t  e n g a g e m e n t  a n d  \\nt r a i n i n g  e n g a g e m e n t  \\na n a l y t i c sI n s i g h t f u l  T a l e n t  \\nA n a l y t i c s'),\n",
       " Document(metadata={'source': 'test.pdf', 'page': 4}, page_content='T e l l  m e  m o r e  a b o u t  \\nt h e  E x i s t i n g  F e a t u r e sB i t e  s i z e d  l e a r n i n g  t h r o u g h  W h a t s A p pA I  b a s e d  o n - t h e - j o b  t r a i n i n g  s u p p o r tL e a r n i n g  i n  d i f f e r e n t  I n d i a n  l a n g u a g e sS k i l l  B u i l d i n g  A c t i v i t i e sG e t  T r a i n i n g  F e e d b a c kT r a i n i n g  a n d  E n g a g e m e n t  A n a l y t i c sF o r  D e m o  C l i c k  H e r eF o r  D e m o  C l i c k  H e r e\\nA s s e s s m e n t  A c t i v i t i e sC r e a t e  I n s t a  l i k e  r e e l s  f r o m  e x i s t i n g  t r a i n i n g  \\nm a t e r i a l s'),\n",
       " Document(metadata={'source': 'test.pdf', 'page': 5}, page_content='U s e  C a s eW h e r e  I  c a n  u s e  \\nY o g y a B a n oO n  t h e  j o b  t r a i n i n g  S e a s o n a l  o f f e r s  a n d  p r o m o t i o n  t r a i n i n gS O P  T r a i n i n gS k i l l  E v a l u a t i o n  a n d  a s s e s s m e n tN e w  h i r e  o n b o a r d i n g  T r a i n i n g\\nT r a i n i n g  o n  n e w  p r o d u c t s  a n d  \\nt e c h n i q u e sT r a i n  c h a n n e l  p a r t n e r s / d i s t r i b u t o r sT r a i n i n g  l o w  p e r f o r m i n g  e m p l o y e e s  /  \\nb r a n c h e s\\nR e v i s e  c o n c e p t s  &  c h a p t e r s'),\n",
       " Document(metadata={'source': 'test.pdf', 'page': 6}, page_content='E x a m p l e  o f  1 - m o n t h  t r a i n i n g  w i t h  Y o g y a B a n oD a y  0I n t r o d u c t i o n  t o  t h e  m o d u l eT e x t  m e s s a g e  +  w e l c o m e  v i d e oD a y  6C o n c e p t  2V o i c e  n o t e  +  T e x t  D a y  1 4T e s t  t h e  u n d e r s t a n d i n gQ u i z  t o  e v a l u a t e  b a s e d  o n\\nc o n c e p t  1 ,  2  &  3   D a y  2 3L e a r n  b y  D o i n gA s k  u s e r  t o  t r y  u s i n g  v o i c e  n o t e\\na n d  s h a r e  f e e d b a c k   D a y  3 0C o l l e c t  F e e d b a c kN u d g e  e m p l o y e e  t o\\ns h a r e  f e e d b a c k\\nD a y  3C o n c e p t  1T e x t  +  I m a g e  +  a  s m a l l  q u i zD a y  1 0C o n c e p t  3V i d e o  +  T e x t  D a y  2 0I n t r o d u c e  c o n c e p t  4T e x t  +  V i d e o  D a y  2 8F i n a l  E v a l u a t i o nQ u i z  +  V o i c e  b o t  t o  t e s t\\nu s e r  f e e d b a c k'),\n",
       " Document(metadata={'source': 'test.pdf', 'page': 7}, page_content='U p c o m i n g  F e a t u r e s1S c h e d u l e rS c h e d u l e  a l e r t s ,  d a i l y / w e e k l y  \\nt i p s  a n d  o t h e r  t o p i c s  t h r o u g h  \\nt r a i n e r ’ s  d a s h b o a r d .  2V i r t u a l  A I  C o a c hC r e a t e  a  v i r t u a l  v e r s i o n  o f  t h e  \\ni n s t r u c t o r s  b a s e d  o n  t h e  \\ne x i s t i n g  k n o w l e d g e  m a t e r i a l s  \\na n d  p r o v i d e  a n y t i m e  a n y w h e r e  \\nc o a c h i n g .  3G a m i f i c a t i o nM a k e  l e a r n i n g  e n g a g i n g  \\nt h r o u g h  C h a l l e n g e s ,  R a n k i n g s ,  \\nB a d g e s ,  P o i n t s ,  a n d  R e w a r d s .4H y p e r -\\np e r s o n a l i z a t i o nD e l i v e r  c o n t e n t  t o  m a t c h  \\ni n d i v i d u a l  s k i l l s  a n d  \\np r e f e r e n c e s .  A u t o m a t e d  \\nt h r o u g h  A I / M L  t e c h n o l o g y .'),\n",
       " Document(metadata={'source': 'test.pdf', 'page': 8}, page_content='A b o u t  t h e  t e a mS i v a  C o t i p a l l i  i s  \\nf r o m  B I T S , P i l a n i ;  \\nI I M - K o z h i k o d e  a n d  \\nL o n d o n  S c h o o l  o f  \\nE c o n o m i c s  ( L S E )\\nC l o s e  t o  1 5 +  y e a r s  \\no f  e x p e r i e n c e  a s  a n  \\ne n t r e p r e n e u r  w i t h  \\nd i g i t a l  a n d  f i n t e c h  \\ns e c t o r s ,  w o r k e d  \\nw i t h  I n f o s y s / O r a c l e  \\n&  G a t e s  \\nF o u n d a t i o n .  \\nF o u n d e d  a n d  a n  \\ne a r l y  m e m b e r  o f  \\nm u l t i p l e  f i n a n c i a l  \\ni n c l u s i o n  s t a r t u p s .A d v i s o r s\\nSI V A C O TIP ALLIDIRE C T ORV arad ara j an SridharanED Te ch ad v isore x -NT TF , e x - C ognizant L&D , e x -Micr osoft |\\nBIT S Pilani, UCL\\nv id y a K y asaramRet ail and interior e x p er tBonit o Designs, E x -Home Lane, O&M \\nA dv er tisingP rasanna PAI & ML E X P ER TE x -Entr epr eneur , E x - Or ac le'),\n",
       " Document(metadata={'source': 'test.pdf', 'page': 9}, page_content='S c a n  m e  t o  \\ne x p e r i e n c e  t h e  \\nb o t !\\nS e n d  W h a t s A p p  m e s s a g e  \\ns a l e s  t o  8 7 9 2 2 6 3 4 5 0C o n t a c t  I N f o\\nW e b s i t eE m a i lL i n k e d i nP h o n eN o . 1 1 2 ,  A K R  T e c h  P a r k ,  \" A \"  B l o c k ,\\n7 t h  M i l e  H o s u r  R d ,  K r i s h n a  R e d d y  I n d u s t r i a l  \\nA r e a ,  B e n g a l u r u ,  K a r n a t a k a ,  5 6 0 0 6 8 .\\ny o g y a b a n o . c o ms i v a . c o t i p a l l i @ y o g y a b a n o . c o mS i v a  C o t i p a l l i+ 9 1 - 9 9 5 8 5 3 8 1 9 4')]"
      ]
     },
     "execution_count": 6,
     "metadata": {},
     "output_type": "execute_result"
    }
   ],
   "source": [
    "from langchain_text_splitters import RecursiveCharacterTextSplitter\n",
    "text_splitter = RecursiveCharacterTextSplitter(\n",
    "    # Set a really small chunk size, just to show.\n",
    "    chunk_size=1000,\n",
    "    chunk_overlap=200,\n",
    "    length_function=len,\n",
    "    is_separator_regex=False,\n",
    ")\n",
    "documents = text_splitter.split_documents(pages)\n",
    "documents"
   ]
  },
  {
   "cell_type": "code",
   "execution_count": 7,
   "metadata": {},
   "outputs": [],
   "source": [
    "import os\n",
    "from dotenv import load_dotenv\n",
    "load_dotenv()\n",
    "\n",
    "os.environ[\"OPENAI_API_KEY\"] = os.getenv(\"OPENAI_API_KEY\")\n",
    "os.environ[\"LANGCHAIN_TRACING_V2\"] = \"true\"\n",
    "os.environ[\"LANGCHAIN_API_KEY\"] = os.getenv(\"LANGCHAIN_API_KEY\")"
   ]
  },
  {
   "cell_type": "code",
   "execution_count": 8,
   "metadata": {},
   "outputs": [],
   "source": [
    "from langchain.embeddings.openai import OpenAIEmbeddings\n",
    "\n",
    "OPENAI_API_KEY = os.getenv(\"OPENAI_API_KEY\")\n",
    "model_name = 'text-embedding-ada-002'\n",
    "embed = OpenAIEmbeddings(\n",
    "    model=model_name,\n",
    "    openai_api_key=OPENAI_API_KEY\n",
    ")\n",
    "\n",
    "\n",
    "from langchain_community.vectorstores import FAISS\n",
    "vetcordb = FAISS.from_documents(documents,OpenAIEmbeddings())\n"
   ]
  },
  {
   "cell_type": "code",
   "execution_count": 9,
   "metadata": {},
   "outputs": [
    {
     "data": {
      "text/plain": [
       "'P r o b l e m  W e  a r e  A d d r e s s i n gG a u t a m\\nL e a r n e r sL e k h a\\nL a c k  o f  p e r s o n a l i s a t i o n  i n  t r a i n i n g  p r o g r a m \\nN o t  d e s i g n e d  f o r  l o w  a t t e n t i o n  s p a n \\nN o  o p p o r t u n i t y  f o r  c o n t i n u o u s  &  s p a c e d  l e a r n i n \\nD i f fi c u l t  t o  m a k e  l e a r n i n g  a  h a b i t \\nL o t  o f  f r i c t i o n  i n  a c c e s s i n g  e- l e a r n i n g  c o n t e n tT a k e  w e e k s  a n d  m o n t h s  t o  c r e a t e  a n d  l a u n c h  a  \\nt r a i n i n g  p r o g r a \\nC u r r e n t  l e a r n i n g  m a n a g e m e n t  s y s t e m s  a r e  n o t  \\nt u n e d  t o  t h e  n e e d  o f  f r o n t l i n e  a n d  l o w  a t t e n t i o n  \\ns p a n  l e a r n e r \\nL e a r n i n g  w o r k fl o w  i s  d e t a c h e d  f r o m  d a i l y  w o r k\\nT r a i n i n g  I n s t r u c t o r'"
      ]
     },
     "execution_count": 9,
     "metadata": {},
     "output_type": "execute_result"
    }
   ],
   "source": [
    "\n",
    "retriever = vetcordb.as_retriever()\n",
    "retrieved_documents = retriever.invoke(\"What is LangChain?\")\n",
    "retrieved_documents[0].page_content"
   ]
  },
  {
   "cell_type": "code",
   "execution_count": 10,
   "metadata": {},
   "outputs": [],
   "source": [
    "from langchain_openai import OpenAI\n",
    "from langchain.chains.combine_documents import create_stuff_documents_chain\n",
    "from langchain_core.prompts import ChatPromptTemplate\n",
    "from langchain_core.messages import HumanMessages\n",
    "\n",
    "\n",
    "llm = OpenAI()\n",
    "prompt = ChatPromptTemplate.from_template(\"\"\"\"\n",
    "                                          System : Answer the following question based only on the provided context Think step by step to before providing a detailed answer.\n",
    "                                          <context>\n",
    "                                          {context}\n",
    "                                          <context>\n",
    "                                          Question:{input}\n",
    "                                          \"\"\")\n",
    "documents_chain = create_stuff_documents_chain(llm,prompt)"
   ]
  },
  {
   "cell_type": "code",
   "execution_count": 11,
   "metadata": {},
   "outputs": [],
   "source": [
    "from langchain.chains import create_retrieval_chain\n",
    "retriever_chain = create_retrieval_chain(retriever,documents_chain)"
   ]
  },
  {
   "cell_type": "code",
   "execution_count": 16,
   "metadata": {},
   "outputs": [
    {
     "name": "stdout",
     "output_type": "stream",
     "text": [
      "pleaase tell me a little about this pdf in brief\n"
     ]
    },
    {
     "data": {
      "text/plain": [
       "'\\nAnswer: This PDF provides information about a team of individuals with experience in entrepreneurship, digital and fintech sectors, and financial inclusion startups. They have also founded and been early members of multiple startups. The team includes Siva Cotipalli, who has 15+ years of experience and holds degrees from BITS Pilani, IIM-Kozhikode, and London School of Economics. The PDF also introduces an AI-assisted training platform for blue and grey collar workers, with features such as WhatsApp-based learning, on-the-job training support, and learning in various Indian languages. It also offers insights on employee engagement and training analytics.'"
      ]
     },
     "execution_count": 16,
     "metadata": {},
     "output_type": "execute_result"
    }
   ],
   "source": [
    "# test Code to create an API end point and get output from the user \n",
    "# this will not work cause client side code is not here as well as the coe here is running on notebook not on .py file so that will also restrict it from running.\n",
    "\n",
    "###############################################  CODE STARTS BELOW   ########################################################\n",
    "from fastapi import FastAPI\n",
    "import uvicorn\n",
    "\n",
    "\n",
    "app = FastAPI(\n",
    "    title=\"Langchain Server\",\n",
    "    version = \"1.0\",\n",
    "    description=\"A simple API Server\"\n",
    ")\n",
    "\n",
    "@app.get(\"/answer\")\n",
    "def genAnswer(input:str):\n",
    "    response = retriever_chain.invoke({\"input\":input})\n",
    "    return response['answer']\n",
    "\n",
    "if __name__ == \"__main__\":\n",
    "    uvicorn.run(app,host=\"localhost\",port=8000)\n"
   ]
  },
  {
   "cell_type": "code",
   "execution_count": null,
   "metadata": {},
   "outputs": [],
   "source": []
  }
 ],
 "metadata": {
  "kernelspec": {
   "display_name": "llm",
   "language": "python",
   "name": "python3"
  },
  "language_info": {
   "codemirror_mode": {
    "name": "ipython",
    "version": 3
   },
   "file_extension": ".py",
   "mimetype": "text/x-python",
   "name": "python",
   "nbconvert_exporter": "python",
   "pygments_lexer": "ipython3",
   "version": "3.10.0"
  }
 },
 "nbformat": 4,
 "nbformat_minor": 2
}
